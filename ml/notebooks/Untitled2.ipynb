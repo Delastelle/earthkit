{
 "cells": [
  {
   "cell_type": "code",
   "execution_count": 5,
   "id": "2c739b81-142b-405d-97f9-a1c1b2f7521b",
   "metadata": {},
   "outputs": [
    {
     "name": "stdout",
     "output_type": "stream",
     "text": [
      "-> 4\n",
      "-> 16\n",
      "9² =  16\n",
      "9² =  16\n",
      "[1, 2, 3]\n"
     ]
    }
   ],
   "source": [
    "import asyncio\n",
    "from aiostream import stream, pipe\n",
    "\n",
    "\n",
    "async def main():\n",
    "\n",
    "    # Create a counting stream with a 0.2 seconds interval\n",
    "    xs = stream.iterate([1,2,3,4,5])\n",
    "\n",
    "    # Operators can be piped using '|'\n",
    "    ys = xs | pipe.map(lambda x: x**2)\n",
    "\n",
    "    # Streams can be sliced\n",
    "    zs = ys[1:10:2]\n",
    "\n",
    "    # Use a stream context for proper resource management\n",
    "    async with zs.stream() as streamer:\n",
    "        async for z in streamer:\n",
    "            print('->', z)\n",
    "\n",
    "    # Streams can be awaited and return the last value\n",
    "    print('9² = ', await zs)\n",
    "\n",
    "    # Streams can run several times\n",
    "    print('9² = ', await zs)\n",
    "\n",
    "    # Streams can be concatenated\n",
    "    one_two_three = stream.just(1) + stream.range(2, 4)\n",
    "\n",
    "    # Print [1, 2, 3]\n",
    "    print(await stream.list(one_two_three))\n",
    "\n",
    "await main()"
   ]
  },
  {
   "cell_type": "code",
   "execution_count": null,
   "id": "17fbc496-db56-4f56-a5a1-8aab56970ec9",
   "metadata": {},
   "outputs": [],
   "source": []
  }
 ],
 "metadata": {
  "kernelspec": {
   "display_name": "Pyproject Local",
   "language": "python",
   "name": "pyproject_local_kernel"
  },
  "language_info": {
   "codemirror_mode": {
    "name": "ipython",
    "version": 3
   },
   "file_extension": ".py",
   "mimetype": "text/x-python",
   "name": "python",
   "nbconvert_exporter": "python",
   "pygments_lexer": "ipython3",
   "version": "3.11.8"
  }
 },
 "nbformat": 4,
 "nbformat_minor": 5
}
