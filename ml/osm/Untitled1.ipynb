{
 "cells": [
  {
   "cell_type": "code",
   "execution_count": 1,
   "id": "5c5cd810-3e7d-4d27-895f-55e346e8879a",
   "metadata": {},
   "outputs": [],
   "source": [
    "import httpx"
   ]
  },
  {
   "cell_type": "code",
   "execution_count": 15,
   "id": "9c315f31-b06f-448a-a456-aeb2ee35b82d",
   "metadata": {},
   "outputs": [
    {
     "data": {
      "text/plain": [
       "3996"
      ]
     },
     "execution_count": 15,
     "metadata": {},
     "output_type": "execute_result"
    }
   ],
   "source": [
    "TAGS_CNT = 999\n",
    "PAGE_CNT = 4\n",
    "res = []\n",
    "for i in range(1, PAGE_CNT+1):\n",
    "    data = httpx.get(f\"https://taginfo.openstreetmap.org/api/4/tags/popular?sortname=count_all&sortorder=desc&rp={TAGS_CNT}&page={i}\").json()\n",
    "    res += data['data']\n",
    "\n",
    "len(res)"
   ]
  },
  {
   "cell_type": "code",
   "execution_count": 16,
   "id": "c98960da-3801-4569-ba68-651ffd03f6b8",
   "metadata": {},
   "outputs": [
    {
     "data": {
      "text/html": [
       "<div>\n",
       "<style scoped>\n",
       "    .dataframe tbody tr th:only-of-type {\n",
       "        vertical-align: middle;\n",
       "    }\n",
       "\n",
       "    .dataframe tbody tr th {\n",
       "        vertical-align: top;\n",
       "    }\n",
       "\n",
       "    .dataframe thead th {\n",
       "        text-align: right;\n",
       "    }\n",
       "</style>\n",
       "<table border=\"1\" class=\"dataframe\">\n",
       "  <thead>\n",
       "    <tr style=\"text-align: right;\">\n",
       "      <th></th>\n",
       "      <th>key</th>\n",
       "      <th>value</th>\n",
       "      <th>in_wiki</th>\n",
       "      <th>count_all</th>\n",
       "      <th>count_all_fraction</th>\n",
       "      <th>count_nodes</th>\n",
       "      <th>count_nodes_fraction</th>\n",
       "      <th>count_ways</th>\n",
       "      <th>count_ways_fraction</th>\n",
       "      <th>count_relations</th>\n",
       "      <th>count_relations_fraction</th>\n",
       "      <th>projects</th>\n",
       "    </tr>\n",
       "  </thead>\n",
       "  <tbody>\n",
       "    <tr>\n",
       "      <th>0</th>\n",
       "      <td>building</td>\n",
       "      <td>yes</td>\n",
       "      <td>1</td>\n",
       "      <td>487959537</td>\n",
       "      <td>0.0476</td>\n",
       "      <td>296035</td>\n",
       "      <td>0.0013</td>\n",
       "      <td>487018628</td>\n",
       "      <td>0.4731</td>\n",
       "      <td>644874</td>\n",
       "      <td>0.0527</td>\n",
       "      <td>13</td>\n",
       "    </tr>\n",
       "    <tr>\n",
       "      <th>1</th>\n",
       "      <td>highway</td>\n",
       "      <td>residential</td>\n",
       "      <td>1</td>\n",
       "      <td>66438369</td>\n",
       "      <td>0.0065</td>\n",
       "      <td>37</td>\n",
       "      <td>0.0000</td>\n",
       "      <td>66438305</td>\n",
       "      <td>0.0645</td>\n",
       "      <td>27</td>\n",
       "      <td>0.0000</td>\n",
       "      <td>37</td>\n",
       "    </tr>\n",
       "    <tr>\n",
       "      <th>2</th>\n",
       "      <td>building</td>\n",
       "      <td>house</td>\n",
       "      <td>1</td>\n",
       "      <td>56044929</td>\n",
       "      <td>0.0055</td>\n",
       "      <td>229935</td>\n",
       "      <td>0.0010</td>\n",
       "      <td>55715434</td>\n",
       "      <td>0.0541</td>\n",
       "      <td>99560</td>\n",
       "      <td>0.0081</td>\n",
       "      <td>11</td>\n",
       "    </tr>\n",
       "    <tr>\n",
       "      <th>3</th>\n",
       "      <td>highway</td>\n",
       "      <td>service</td>\n",
       "      <td>1</td>\n",
       "      <td>56044254</td>\n",
       "      <td>0.0055</td>\n",
       "      <td>56</td>\n",
       "      <td>0.0000</td>\n",
       "      <td>56040456</td>\n",
       "      <td>0.0544</td>\n",
       "      <td>3742</td>\n",
       "      <td>0.0003</td>\n",
       "      <td>33</td>\n",
       "    </tr>\n",
       "    <tr>\n",
       "      <th>4</th>\n",
       "      <td>surface</td>\n",
       "      <td>asphalt</td>\n",
       "      <td>1</td>\n",
       "      <td>27513806</td>\n",
       "      <td>0.0027</td>\n",
       "      <td>96384</td>\n",
       "      <td>0.0004</td>\n",
       "      <td>27392917</td>\n",
       "      <td>0.0266</td>\n",
       "      <td>24505</td>\n",
       "      <td>0.0020</td>\n",
       "      <td>26</td>\n",
       "    </tr>\n",
       "  </tbody>\n",
       "</table>\n",
       "</div>"
      ],
      "text/plain": [
       "        key        value  in_wiki  count_all  count_all_fraction  count_nodes  \\\n",
       "0  building          yes        1  487959537              0.0476       296035   \n",
       "1   highway  residential        1   66438369              0.0065           37   \n",
       "2  building        house        1   56044929              0.0055       229935   \n",
       "3   highway      service        1   56044254              0.0055           56   \n",
       "4   surface      asphalt        1   27513806              0.0027        96384   \n",
       "\n",
       "   count_nodes_fraction  count_ways  count_ways_fraction  count_relations  \\\n",
       "0                0.0013   487018628               0.4731           644874   \n",
       "1                0.0000    66438305               0.0645               27   \n",
       "2                0.0010    55715434               0.0541            99560   \n",
       "3                0.0000    56040456               0.0544             3742   \n",
       "4                0.0004    27392917               0.0266            24505   \n",
       "\n",
       "   count_relations_fraction  projects  \n",
       "0                    0.0527        13  \n",
       "1                    0.0000        37  \n",
       "2                    0.0081        11  \n",
       "3                    0.0003        33  \n",
       "4                    0.0020        26  "
      ]
     },
     "execution_count": 16,
     "metadata": {},
     "output_type": "execute_result"
    }
   ],
   "source": [
    "import pandas as pd\n",
    "\n",
    "df = pd.DataFrame(res)\n",
    "df.head()"
   ]
  },
  {
   "cell_type": "code",
   "execution_count": 17,
   "id": "507eba6e-5bb4-4653-978c-6b3ad90cd2c8",
   "metadata": {},
   "outputs": [],
   "source": [
    "df_with_wiki = df[df['in_wiki']==1]"
   ]
  },
  {
   "cell_type": "code",
   "execution_count": 32,
   "id": "723e4227-35a3-4a2a-807c-013fb183e850",
   "metadata": {},
   "outputs": [
    {
     "data": {
      "text/plain": [
       "1066"
      ]
     },
     "execution_count": 32,
     "metadata": {},
     "output_type": "execute_result"
    }
   ],
   "source": [
    "len(df_with_wiki)"
   ]
  },
  {
   "cell_type": "code",
   "execution_count": 33,
   "id": "295bc61c-464e-41a0-82f4-41a03004399e",
   "metadata": {},
   "outputs": [],
   "source": [
    "def get_wiki(key, value):\n",
    "    try:\n",
    "        res = httpx.get(\n",
    "            \"https://taginfo.openstreetmap.org/api/4/tag/wiki_pages\",\n",
    "            params = {'key': key, 'value': value},\n",
    "            timeout=15.0\n",
    "        )\n",
    "        for r in res.json()['data']:\n",
    "            if r['lang']=='en':return r\n",
    "    except TimeoutError:\n",
    "        return 'timeout'"
   ]
  },
  {
   "cell_type": "code",
   "execution_count": 34,
   "id": "c6225c97-c938-418a-bb3a-18ddeabb36bf",
   "metadata": {},
   "outputs": [
    {
     "name": "stdout",
     "output_type": "stream",
     "text": [
      "{'lang': 'en', 'dir': 'ltr', 'language': 'English', 'language_en': 'English', 'title': 'Tag:mountain_pass=yes', 'description': 'Marks the highest point of a mountain road, railway or path as it passes over a crest.', 'image': {'title': 'File:Mountain pass.jpg', 'width': 300, 'height': 225, 'mime': 'image/jpeg', 'image_url': 'https://wiki.openstreetmap.org/w/images/e/e3/Mountain_pass.jpg', 'thumb_url_prefix': 'https://wiki.openstreetmap.org/w/images/thumb/e/e3/Mountain_pass.jpg/', 'thumb_url_suffix': 'px-Mountain_pass.jpg'}, 'on_node': True, 'on_way': False, 'on_area': False, 'on_relation': False, 'tags_implies': [], 'tags_combination': ['ele', 'name'], 'tags_linked': ['ele', 'mountain_pass', 'mountain_pass=yes', 'name', 'natural=saddle'], 'status': 'approved'}\n"
     ]
    }
   ],
   "source": [
    "res = get_wiki('mountain_pass', 'yes')\n",
    "print(res)"
   ]
  },
  {
   "cell_type": "code",
   "execution_count": 35,
   "id": "53031976-40c6-4a10-b79c-d16b235167d4",
   "metadata": {},
   "outputs": [
    {
     "name": "stdout",
     "output_type": "stream",
     "text": [
      "INFO: Pandarallel will run on 10 workers.\n",
      "INFO: Pandarallel will use standard multiprocessing data transfer (pipe) to transfer data between the main process and workers.\n"
     ]
    }
   ],
   "source": [
    "from pandarallel import pandarallel\n",
    "pandarallel.initialize(progress_bar=True)"
   ]
  },
  {
   "cell_type": "code",
   "execution_count": 37,
   "id": "1938e80d-0af2-4537-8037-b420f5d7d65e",
   "metadata": {},
   "outputs": [
    {
     "data": {
      "application/vnd.jupyter.widget-view+json": {
       "model_id": "7dcb47828aa644b197487ea8c0602835",
       "version_major": 2,
       "version_minor": 0
      },
      "text/plain": [
       "VBox(children=(HBox(children=(IntProgress(value=0, description='0.00%', max=107), Label(value='0 / 107'))), HB…"
      ]
     },
     "metadata": {},
     "output_type": "display_data"
    },
    {
     "name": "stderr",
     "output_type": "stream",
     "text": [
      "/var/folders/z5/ks9fxjt91y1dgv38xzprh08m0000gn/T/ipykernel_32039/263575737.py:2: SettingWithCopyWarning: \n",
      "A value is trying to be set on a copy of a slice from a DataFrame.\n",
      "Try using .loc[row_indexer,col_indexer] = value instead\n",
      "\n",
      "See the caveats in the documentation: https://pandas.pydata.org/pandas-docs/stable/user_guide/indexing.html#returning-a-view-versus-a-copy\n",
      "  df_with_wiki['wiki'] = df_with_wiki.parallel_apply(\n"
     ]
    }
   ],
   "source": [
    "import asyncio\n",
    "df_with_wiki['wiki'] = df_with_wiki.parallel_apply(\n",
    "    lambda rw:get_wiki(rw['key'], rw['value']), axis=1\n",
    ")"
   ]
  },
  {
   "cell_type": "code",
   "execution_count": 50,
   "id": "058eda1b-257a-4bc2-ac64-727798595cd5",
   "metadata": {},
   "outputs": [],
   "source": [
    "df_with_wiki = df_with_wiki[df_with_wiki['wiki'].notnull()]"
   ]
  },
  {
   "cell_type": "code",
   "execution_count": 45,
   "id": "4e5a8a46-eaf6-4dd3-8573-1c282680944b",
   "metadata": {},
   "outputs": [],
   "source": [
    "df_with_wiki.to_pickle(\"tags.pkl\")"
   ]
  },
  {
   "cell_type": "code",
   "execution_count": 52,
   "id": "fad94bc5-1524-465f-bf83-fa73acb2ebc1",
   "metadata": {},
   "outputs": [
    {
     "name": "stderr",
     "output_type": "stream",
     "text": [
      "/var/folders/z5/ks9fxjt91y1dgv38xzprh08m0000gn/T/ipykernel_32039/2528192062.py:1: SettingWithCopyWarning: \n",
      "A value is trying to be set on a copy of a slice from a DataFrame.\n",
      "Try using .loc[row_indexer,col_indexer] = value instead\n",
      "\n",
      "See the caveats in the documentation: https://pandas.pydata.org/pandas-docs/stable/user_guide/indexing.html#returning-a-view-versus-a-copy\n",
      "  df_with_wiki['description'] = df_with_wiki['wiki'].apply(\n"
     ]
    }
   ],
   "source": [
    "df_with_wiki['description'] = df_with_wiki['wiki'].apply(\n",
    "    lambda x: x['description']\n",
    ")"
   ]
  },
  {
   "cell_type": "code",
   "execution_count": 54,
   "id": "1d078f1a-fbcd-4f83-bd76-d831a75b3c31",
   "metadata": {},
   "outputs": [],
   "source": [
    "df_with_wiki[['key', 'value', 'count_all_fraction', 'description']].to_json(\n",
    "    \"tags.json\", orient=\"records\"\n",
    ")"
   ]
  },
  {
   "cell_type": "code",
   "execution_count": 55,
   "id": "37379757-54e3-4aeb-af7a-7300002c8f3f",
   "metadata": {},
   "outputs": [
    {
     "data": {
      "text/plain": [
       "0.1952"
      ]
     },
     "execution_count": 55,
     "metadata": {},
     "output_type": "execute_result"
    }
   ],
   "source": [
    "df['count_all_fraction'].sum()"
   ]
  },
  {
   "cell_type": "markdown",
   "id": "21b7dc4b-701d-4f0b-a195-14477bf62c08",
   "metadata": {},
   "source": [
    "## Keys"
   ]
  },
  {
   "cell_type": "code",
   "execution_count": 62,
   "id": "4bbcab18-d2bb-4dc0-a879-24e09b8a2803",
   "metadata": {},
   "outputs": [
    {
     "name": "stderr",
     "output_type": "stream",
     "text": [
      "100%|██████████████████████████████████████| 5/5 [00:08<00:00,  1.67s/it]\n"
     ]
    },
    {
     "data": {
      "text/plain": [
       "4995"
      ]
     },
     "execution_count": 62,
     "metadata": {},
     "output_type": "execute_result"
    }
   ],
   "source": [
    "from tqdm import tqdm\n",
    "TAGS_CNT = 999\n",
    "PAGE_CNT = 5\n",
    "keys_res = []\n",
    "for i in tqdm(range(1, PAGE_CNT+1)):\n",
    "    data = httpx.get(f\"https://taginfo.openstreetmap.org/api/4/keys/all?sortname=count_all&sortorder=desc&rp={TAGS_CNT}&page={i}\").json()\n",
    "    keys_res += data['data']\n",
    "\n",
    "len(keys_res)"
   ]
  },
  {
   "cell_type": "code",
   "execution_count": 72,
   "id": "c79deb1e-ddc4-4c18-8445-c57ccf4277c3",
   "metadata": {},
   "outputs": [
    {
     "data": {
      "text/plain": [
       "0.30280000000000007"
      ]
     },
     "execution_count": 72,
     "metadata": {},
     "output_type": "execute_result"
    }
   ],
   "source": [
    "df_keys = pd.DataFrame(keys_res)\n",
    "df_keys['count_all_fraction'].sum()"
   ]
  },
  {
   "cell_type": "code",
   "execution_count": 73,
   "id": "447e06e3-0171-4910-870c-0219a966ae21",
   "metadata": {},
   "outputs": [
    {
     "data": {
      "text/plain": [
       "2642"
      ]
     },
     "execution_count": 73,
     "metadata": {},
     "output_type": "execute_result"
    }
   ],
   "source": [
    "df_keys['in_wiki'].sum()"
   ]
  },
  {
   "cell_type": "code",
   "execution_count": 68,
   "id": "dffdee1d-3ae4-411c-8ffd-03d47259530b",
   "metadata": {
    "scrolled": true
   },
   "outputs": [
    {
     "data": {
      "text/plain": [
       "{'lang': 'en',\n",
       " 'dir': 'ltr',\n",
       " 'language': 'English',\n",
       " 'language_en': 'English',\n",
       " 'title': 'Key:building',\n",
       " 'description': 'To mark the outline of a building, a man-made structure with a roof, standing more or less permanently in one place.',\n",
       " 'image': {'title': 'File:Emptyhouse.jpg',\n",
       "  'width': 1280,\n",
       "  'height': 800,\n",
       "  'mime': 'image/jpeg',\n",
       "  'image_url': 'https://wiki.openstreetmap.org/w/images/6/61/Emptyhouse.jpg',\n",
       "  'thumb_url_prefix': 'https://wiki.openstreetmap.org/w/images/thumb/6/61/Emptyhouse.jpg/',\n",
       "  'thumb_url_suffix': 'px-Emptyhouse.jpg'},\n",
       " 'on_node': True,\n",
       " 'on_way': False,\n",
       " 'on_area': True,\n",
       " 'on_relation': False,\n",
       " 'tags_implies': ['area=yes'],\n",
       " 'tags_combination': ['addr', 'name'],\n",
       " 'tags_linked': ['addr',\n",
       "  'amenity=hospital',\n",
       "  'area=yes',\n",
       "  'building',\n",
       "  'building:use',\n",
       "  'building=hospital',\n",
       "  'building=yes',\n",
       "  'name'],\n",
       " 'status': 'approved'}"
      ]
     },
     "execution_count": 68,
     "metadata": {},
     "output_type": "execute_result"
    }
   ],
   "source": [
    "def get_wiki_key(key):\n",
    "    try:\n",
    "        res = httpx.get(\n",
    "            \"https://taginfo.openstreetmap.org/api/4/key/wiki_pages\",\n",
    "            params = {'key': key},\n",
    "            timeout=15.0\n",
    "        )\n",
    "        for r in res.json()['data']:\n",
    "            if r['lang']=='en':return r\n",
    "    except TimeoutError:\n",
    "        return 'timeout'\n",
    "\n",
    "get_wiki_key('building')"
   ]
  },
  {
   "cell_type": "code",
   "execution_count": 74,
   "id": "13b61265-a9b3-4694-9c24-c01589c44f1b",
   "metadata": {},
   "outputs": [
    {
     "data": {
      "application/vnd.jupyter.widget-view+json": {
       "model_id": "7a5df96814c344ac8160e1205602bf44",
       "version_major": 2,
       "version_minor": 0
      },
      "text/plain": [
       "VBox(children=(HBox(children=(IntProgress(value=0, description='0.00%', max=265), Label(value='0 / 265'))), HB…"
      ]
     },
     "metadata": {},
     "output_type": "display_data"
    },
    {
     "name": "stderr",
     "output_type": "stream",
     "text": [
      "/var/folders/z5/ks9fxjt91y1dgv38xzprh08m0000gn/T/ipykernel_32039/1581856885.py:2: SettingWithCopyWarning: \n",
      "A value is trying to be set on a copy of a slice from a DataFrame.\n",
      "Try using .loc[row_indexer,col_indexer] = value instead\n",
      "\n",
      "See the caveats in the documentation: https://pandas.pydata.org/pandas-docs/stable/user_guide/indexing.html#returning-a-view-versus-a-copy\n",
      "  df_key_with_wiki['wiki'] = df_key_with_wiki['key'].parallel_apply(get_wiki_key)\n"
     ]
    }
   ],
   "source": [
    "df_key_with_wiki = df_keys[df_keys['in_wiki']==True]\n",
    "df_key_with_wiki['wiki'] = df_key_with_wiki['key'].parallel_apply(get_wiki_key)"
   ]
  },
  {
   "cell_type": "code",
   "execution_count": 76,
   "id": "7f0fee9b-e3ec-4f60-bac1-c881a5b3005a",
   "metadata": {},
   "outputs": [
    {
     "data": {
      "text/plain": [
       "key                         32\n",
       "count_all                   32\n",
       "count_all_fraction          32\n",
       "count_nodes                 32\n",
       "count_nodes_fraction        32\n",
       "count_ways                  32\n",
       "count_ways_fraction         32\n",
       "count_relations             32\n",
       "count_relations_fraction    32\n",
       "values_all                  32\n",
       "users_all                   32\n",
       "in_wiki                     32\n",
       "projects                    32\n",
       "wiki                         0\n",
       "dtype: int64"
      ]
     },
     "execution_count": 76,
     "metadata": {},
     "output_type": "execute_result"
    }
   ],
   "source": [
    "df_key_with_wiki[df_key_with_wiki['wiki'].isnull()].count()"
   ]
  },
  {
   "cell_type": "code",
   "execution_count": 78,
   "id": "23cab29c-efe5-4582-adb3-7e01e91a887d",
   "metadata": {},
   "outputs": [
    {
     "name": "stderr",
     "output_type": "stream",
     "text": [
      "/var/folders/z5/ks9fxjt91y1dgv38xzprh08m0000gn/T/ipykernel_32039/2727705071.py:4: FutureWarning: Starting with pandas version 3.0 all arguments of to_json except for the argument 'path_or_buf' will be keyword-only.\n",
      "  df_key_with_wiki[['key', 'count_all_fraction', 'description']].to_json(\n"
     ]
    }
   ],
   "source": [
    "df_key_with_wiki = df_key_with_wiki[ df_key_with_wiki['wiki'].notnull()]\n",
    "df_key_with_wiki['description'] = df_key_with_wiki['wiki'].apply(lambda x: x['description'])\n",
    "df_key_with_wiki.to_pickle('keys.pkl')\n",
    "df_key_with_wiki[['key', 'count_all_fraction', 'description']].to_json(\n",
    "    \"keys.json\",\n",
    "    \"records\"\n",
    ")"
   ]
  },
  {
   "cell_type": "code",
   "execution_count": null,
   "id": "735bcac2-ba65-4f7f-8bad-70b1413cf44d",
   "metadata": {},
   "outputs": [],
   "source": []
  }
 ],
 "metadata": {
  "kernelspec": {
   "display_name": "Pyproject Local",
   "language": "python",
   "name": "pyproject_local_kernel"
  },
  "language_info": {
   "codemirror_mode": {
    "name": "ipython",
    "version": 3
   },
   "file_extension": ".py",
   "mimetype": "text/x-python",
   "name": "python",
   "nbconvert_exporter": "python",
   "pygments_lexer": "ipython3",
   "version": "3.11.8"
  }
 },
 "nbformat": 4,
 "nbformat_minor": 5
}
