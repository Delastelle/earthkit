{
 "cells": [
  {
   "cell_type": "code",
   "execution_count": 30,
   "id": "8e8ad9de-d6fa-4f8b-89ed-2555395297fc",
   "metadata": {},
   "outputs": [
    {
     "name": "stdout",
     "output_type": "stream",
     "text": [
      "6352\n"
     ]
    }
   ],
   "source": [
    "from openai import embeddings, OpenAI\n",
    "from dotenv import load_dotenv\n",
    "\n",
    "load_dotenv()\n",
    "nl_reqs = open(\"dataset/dataset.train.nl\").read().splitlines()\n",
    "\n",
    "print(len(nl_reqs))"
   ]
  },
  {
   "cell_type": "code",
   "execution_count": 31,
   "id": "65086578-3e97-4aa1-aa36-4b92d8681203",
   "metadata": {},
   "outputs": [
    {
     "name": "stderr",
     "output_type": "stream",
     "text": [
      "100%|███████████████████████████████████████████████████████████████████| 43/43 [01:45<00:00,  2.45s/it]\n",
      "IOPub data rate exceeded.\n",
      "The Jupyter server will temporarily stop sending output\n",
      "to the client in order to avoid crashing it.\n",
      "To change this limit, set the config variable\n",
      "`--ServerApp.iopub_data_rate_limit`.\n",
      "\n",
      "Current values:\n",
      "ServerApp.iopub_data_rate_limit=1000000.0 (bytes/sec)\n",
      "ServerApp.rate_limit_window=3.0 (secs)\n",
      "\n"
     ]
    }
   ],
   "source": [
    "from tqdm import tqdm\n",
    "import os\n",
    "\n",
    "oai = OpenAI(api_key=os.getenv(\"OPENAI_API_KEY\"), base_url=os.getenv(\"OPENAI_API_BASE\"))\n",
    "\n",
    "batch_size = 150\n",
    "res = []\n",
    "for i in tqdm(range(0, len(nl_reqs), batch_size)):\n",
    "    embeds = oai.embeddings.create(input=nl_reqs[i:i+batch_size], model=\"text-embedding-3-small\")\n",
    "    res.append(embeds)"
   ]
  },
  {
   "cell_type": "code",
   "execution_count": 17,
   "id": "ece1cd44-d66d-44ff-9311-71012e73bbdd",
   "metadata": {
    "scrolled": true
   },
   "outputs": [
    {
     "data": {
      "text/plain": [
       "150"
      ]
     },
     "execution_count": 17,
     "metadata": {},
     "output_type": "execute_result"
    }
   ],
   "source": [
    "len(res[0].data)"
   ]
  },
  {
   "cell_type": "code",
   "execution_count": 32,
   "id": "893ad47c-38c1-49ed-a426-adb075581a17",
   "metadata": {},
   "outputs": [
    {
     "data": {
      "text/plain": [
       "6352"
      ]
     },
     "execution_count": 32,
     "metadata": {},
     "output_type": "execute_result"
    }
   ],
   "source": [
    "embeds = [emb for batch in res for emb in batch.data]\n",
    "len(embeds)"
   ]
  },
  {
   "cell_type": "code",
   "execution_count": 33,
   "id": "d44a66ab-331f-4921-bca1-38d8e9764e61",
   "metadata": {},
   "outputs": [
    {
     "data": {
      "text/plain": [
       "1536"
      ]
     },
     "execution_count": 33,
     "metadata": {},
     "output_type": "execute_result"
    }
   ],
   "source": [
    "len(embeds[0].embedding)"
   ]
  },
  {
   "cell_type": "code",
   "execution_count": 34,
   "id": "1e223b6f-0bad-449d-8fce-3400cd4dd196",
   "metadata": {},
   "outputs": [],
   "source": [
    "import pickle\n",
    "\n",
    "pickle.dump(embeds, open(\"embed_nl_backup.pkl\", \"wb\"))"
   ]
  },
  {
   "cell_type": "code",
   "execution_count": 28,
   "id": "884aff0b-1cb3-498f-84b4-bd581480e86e",
   "metadata": {},
   "outputs": [],
   "source": [
    "from pinecone import Pinecone, ServerlessSpec\n",
    "\n",
    "pc = Pinecone(api_key=os.getenv(\"PINECONE_API_KEY\"))\n",
    "pc.create_index(\n",
    "    name=\"osm-queries\",\n",
    "    dimension=1536, \n",
    "    spec=ServerlessSpec(\n",
    "        cloud=\"aws\",\n",
    "        region=\"us-east-1\"\n",
    "    ) \n",
    ")"
   ]
  },
  {
   "cell_type": "code",
   "execution_count": 39,
   "id": "6a95a374-930d-4c21-9172-c03436e16cd6",
   "metadata": {},
   "outputs": [
    {
     "name": "stderr",
     "output_type": "stream",
     "text": [
      "100%|███████████████████████████████████████████████████████████████████| 71/71 [00:47<00:00,  1.51it/s]\n"
     ]
    }
   ],
   "source": [
    "queries = open(\"dataset/dataset.train.query\").read().splitlines()\n",
    "assert len(queries) == len(embeds)\n",
    "vectors = [{\"id\":str(i), \"values\": embeds[i].embedding, \"metadata\":{\n",
    "    \"query\": queries[i], \"nl\": nl_reqs[i]\n",
    "}} for i in range(len(queries))]\n",
    "index = pc.Index(\"osm-queries\")\n",
    "upsert_batch_sz = 90\n",
    "for i in tqdm(range(0,len(queries), upsert_batch_sz)):\n",
    "    index.upsert(vectors[i:i+upsert_batch_sz])"
   ]
  },
  {
   "cell_type": "code",
   "execution_count": 52,
   "id": "510a9b4e-bd89-44c9-9d65-7bf54b116a16",
   "metadata": {
    "scrolled": true
   },
   "outputs": [
    {
     "name": "stdin",
     "output_type": "stream",
     "text": [
      "describe your query in natural language: convenience stores next to railroads in germany\n"
     ]
    },
    {
     "name": "stdout",
     "output_type": "stream",
     "text": [
      "----------------\n",
      "fuel stations directly at the motorway in Germany\n",
      "[out:json][timeout:900];{{geocodeArea:\"Deutschland\"}}->.searchArea;(node[\"amenity\"=\"fuel\"][\"atmotorway\"=\"yes\"](area.searchArea);way[\"amenity\"=\"fuel\"][\"atmotorway\"=\"yes\"](area.searchArea);relation[\"amenity\"=\"fuel\"][\"atmotorway\"=\"yes\"](area.searchArea););out;>;out skel qt;\n",
      "----------------\n",
      "service roads in Germany\n",
      "[out:json][timeout:25];{{geocodeArea:\"Deutschland\"}}->.searchArea;(node[\"highway\"=\"services\"](area.searchArea);way[\"highway\"=\"services\"](area.searchArea);relation[\"highway\"=\"services\"](area.searchArea););out;>;out skel qt;\n",
      "----------------\n",
      "McDonald's around highways in Germany\n",
      "[out:json][timeout:1000];{{geocodeArea:\"germany\"}}->.searchArea;(node[\"name\"=\"McDonald's\"](area.searchArea);way[\"name\"=\"McDonald's\"](area.searchArea);)->.mcd;way[\"highway\"=\"motorway\"](around.mcd:100)(area.searchArea);out;>;out skel qt;\n",
      "----------------\n",
      "convenience stores in the selected window\n",
      "[out:json][timeout:25];(node[\"shop\"=\"convenience\"]({{bbox}});way[\"amenity\"=\"convenience\"]({{bbox}});relation[\"shop\"=\"convenience\"]({{bbox}}););out qt center;out skel qt;\n",
      "----------------\n",
      "atms in Germany\n",
      "[out:csv(::type,::id,::lat,::lon,\"operator\",\"addr:postcode\",\"addr:city\",\"addr:street\",\"addr:housenumber\")];{{geocodeArea:\"Deutschland\"}}->.searchArea;(node[\"amenity\"=\"atm\"](area.searchArea);way[\"amenity\"=\"atm\"](area.searchArea);relation[\"amenity\"=\"atm\"](area.searchArea););out center;\n"
     ]
    }
   ],
   "source": [
    "nl  = input(\"describe your query in natural language:\")\n",
    "emb = oai.embeddings.create(input=nl, model=\"text-embedding-3-small\")\n",
    "sims = index.query(vector=emb.data[0].embedding, top_k=5, include_metadata=True)\n",
    "for s in sims['matches']:\n",
    "    print(\"----------------\")\n",
    "    print(s['metadata']['nl'])\n",
    "    print(s['metadata']['query'])"
   ]
  },
  {
   "cell_type": "code",
   "execution_count": 51,
   "id": "775eb812-697b-49fd-b91a-4042fad00971",
   "metadata": {},
   "outputs": [
    {
     "name": "stdout",
     "output_type": "stream",
     "text": [
      "CPU times: user 49.8 ms, sys: 16.9 ms, total: 66.7 ms\n",
      "Wall time: 1.31 s\n"
     ]
    },
    {
     "data": {
      "text/plain": [
       "{'matches': [{'id': '3037',\n",
       "              'metadata': {'nl': 'Subway entrances in San Francisco',\n",
       "                           'query': '[out:json][timeout:500];(way[\"railway\"=\"subway_entrance\"](37.66507,-122.598983,37.861302,-122.211227);node[\"railway\"=\"subway_entrance\"](37.66507,-122.598983,37.861302,-122.211227););out;>;out '\n",
       "                                    'skel qt;'},\n",
       "              'score': 0.590370417,\n",
       "              'values': []},\n",
       "             {'id': '3665',\n",
       "              'metadata': {'nl': 'coffee shops in current view',\n",
       "                           'query': '[out:json][timeout:25];(node[\"shop\"=\"coffee\"]({{bbox}});way[\"shop\"=\"coffee\"]({{bbox}});relation[\"shop\"=\"coffee\"]({{bbox}}););out;>;out '\n",
       "                                    'skel qt;'},\n",
       "              'score': 0.569064796,\n",
       "              'values': []},\n",
       "             {'id': '4255',\n",
       "              'metadata': {'nl': 'cafe with coffee shop in the current view',\n",
       "                           'query': '(node[\"amenity\"=\"cafe\"][\"cuisine\"=\"coffee_shop\"]({{bbox}});way[\"amenity\"=\"cafe\"][\"cuisine\"=\"coffee_shop\"]({{bbox}});relation[\"amenity\"=\"cafe\"][\"cuisine\"=\"coffee_shop\"]({{bbox}}););out;'},\n",
       "              'score': 0.509792805,\n",
       "              'values': []},\n",
       "             {'id': '964',\n",
       "              'metadata': {'nl': 'Show a Starbucks Coffee in Paris',\n",
       "                           'query': '[out:json][timeout:600];area[\"name\"=\"Paris\"]->.paris;(node[\"name\"~\"Starbucks '\n",
       "                                    'Coffee\"](area.paris);way[\"name\"~\"Starbucks '\n",
       "                                    'Coffee\"](area.paris);relation[\"name\"~\"Starbucks '\n",
       "                                    'Coffee\"](area.paris););out;>;out skel '\n",
       "                                    'qt;'},\n",
       "              'score': 0.481698304,\n",
       "              'values': []},\n",
       "             {'id': '414',\n",
       "              'metadata': {'nl': 'tea shops in current view',\n",
       "                           'query': '[out:json][timeout:25];(node[\"shop\"=\"tea\"]({{bbox}});way[\"shop\"=\"tea\"]({{bbox}});relation[\"shop\"=\"tea\"]({{bbox}}););out;>;out '\n",
       "                                    'skel qt;'},\n",
       "              'score': 0.480455816,\n",
       "              'values': []}],\n",
       " 'namespace': '',\n",
       " 'usage': {'read_units': 6}}"
      ]
     },
     "execution_count": 51,
     "metadata": {},
     "output_type": "execute_result"
    }
   ],
   "source": [
    "%time index.query(vector=emb.data[0].embedding, top_k=5, include_metadata=True)"
   ]
  }
 ],
 "metadata": {
  "kernelspec": {
   "display_name": "Pyproject Local",
   "language": "python",
   "name": "pyproject_local_kernel"
  },
  "language_info": {
   "codemirror_mode": {
    "name": "ipython",
    "version": 3
   },
   "file_extension": ".py",
   "mimetype": "text/x-python",
   "name": "python",
   "nbconvert_exporter": "python",
   "pygments_lexer": "ipython3",
   "version": "3.11.8"
  }
 },
 "nbformat": 4,
 "nbformat_minor": 5
}
